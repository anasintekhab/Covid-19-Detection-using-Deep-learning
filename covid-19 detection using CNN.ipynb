{
 "cells": [
  {
   "cell_type": "code",
   "execution_count": null,
   "id": "8331bd8a",
   "metadata": {},
   "outputs": [],
   "source": []
  },
  {
   "cell_type": "code",
   "execution_count": null,
   "id": "14a70e2a",
   "metadata": {},
   "outputs": [],
   "source": []
  },
  {
   "cell_type": "code",
   "execution_count": null,
   "id": "dd20e274",
   "metadata": {},
   "outputs": [],
   "source": []
  },
  {
   "cell_type": "code",
   "execution_count": 1,
   "id": "8d56bbc6",
   "metadata": {},
   "outputs": [],
   "source": [
    "import tensorflow as tf "
   ]
  },
  {
   "cell_type": "code",
   "execution_count": 2,
   "id": "ad9420c0",
   "metadata": {},
   "outputs": [
    {
     "name": "stdout",
     "output_type": "stream",
     "text": [
      "Model: \"sequential\"\n",
      "_________________________________________________________________\n",
      "Layer (type)                 Output Shape              Param #   \n",
      "=================================================================\n",
      "conv2d (Conv2D)              (None, 64, 64, 32)        896       \n",
      "_________________________________________________________________\n",
      "max_pooling2d (MaxPooling2D) (None, 32, 32, 32)        0         \n",
      "_________________________________________________________________\n",
      "conv2d_1 (Conv2D)            (None, 32, 32, 64)        18496     \n",
      "_________________________________________________________________\n",
      "max_pooling2d_1 (MaxPooling2 (None, 16, 16, 64)        0         \n",
      "_________________________________________________________________\n",
      "flatten (Flatten)            (None, 16384)             0         \n",
      "_________________________________________________________________\n",
      "dense (Dense)                (None, 128)               2097280   \n",
      "_________________________________________________________________\n",
      "dense_1 (Dense)              (None, 1)                 129       \n",
      "=================================================================\n",
      "Total params: 2,116,801\n",
      "Trainable params: 2,116,801\n",
      "Non-trainable params: 0\n",
      "_________________________________________________________________\n"
     ]
    }
   ],
   "source": [
    "# Initialising the CNN\n",
    "classifier = tf.keras.models.Sequential()\n",
    "\n",
    "classifier.add(tf.keras.layers.Convolution2D(filters=32, kernel_size=3, padding=\"same\", input_shape=(64, 64, 3),\n",
    "                                             activation='relu'))\n",
    "\n",
    "classifier.add(tf.keras.layers.MaxPooling2D(pool_size=2, strides=2, padding='valid'))\n",
    "\n",
    "classifier.add(tf.keras.layers.Convolution2D(filters=64, kernel_size=3, padding=\"same\", activation=\"relu\"))\n",
    "classifier.add(tf.keras.layers.MaxPooling2D(pool_size=2, strides=2, padding='valid'))\n",
    "\n",
    "classifier.add(tf.keras.layers.Flatten())\n",
    "\n",
    "classifier.add(tf.keras.layers.Dense(units=128, activation='relu'))\n",
    "classifier.add(tf.keras.layers.Dense(units=1, activation='sigmoid'))\n",
    "\n",
    "classifier.compile(optimizer='adam', loss='binary_crossentropy', metrics=['accuracy'])\n",
    "classifier.summary()"
   ]
  },
  {
   "cell_type": "code",
   "execution_count": 31,
   "id": "408cc630",
   "metadata": {},
   "outputs": [
    {
     "name": "stdout",
     "output_type": "stream",
     "text": [
      "Found 1400 images belonging to 2 classes.\n",
      "Found 600 images belonging to 2 classes.\n"
     ]
    }
   ],
   "source": [
    "# Part 2 - Fitting the CNN to the images\n",
    "\n",
    "from tensorflow.keras.preprocessing.image import ImageDataGenerator\n",
    "\n",
    "train_datagen = ImageDataGenerator(rescale=1. / 255,\n",
    "                                   shear_range=0.2,\n",
    "                                   zoom_range=0.2,\n",
    "                                   horizontal_flip=True)\n",
    "\n",
    "test_datagen = ImageDataGenerator(rescale=1. / 255)\n",
    "\n",
    "training_set = train_datagen.flow_from_directory(r'C:\\Users\\Anas\\Desktop\\minorproject\\train',\n",
    "                                                 target_size=(64, 64),\n",
    "                                                 batch_size=32,\n",
    "                                                 class_mode='binary')\n",
    "\n",
    "test_set = test_datagen.flow_from_directory(r'C:\\Users\\Anas\\Desktop\\minorproject\\test',\n",
    "                                            target_size=(64, 64),\n",
    "                                            batch_size=32,\n",
    "                                            class_mode='binary')"
   ]
  },
  {
   "cell_type": "code",
   "execution_count": 49,
   "id": "e45f89fd",
   "metadata": {},
   "outputs": [
    {
     "name": "stdout",
     "output_type": "stream",
     "text": [
      "Epoch 1/10\n",
      "4/4 [==============================] - 2s 573ms/step - loss: 0.1002 - accuracy: 0.9688 - val_loss: 0.4796 - val_accuracy: 0.9219\n",
      "Epoch 2/10\n",
      "4/4 [==============================] - 2s 496ms/step - loss: 0.0174 - accuracy: 1.0000 - val_loss: 0.3925 - val_accuracy: 0.8828\n",
      "Epoch 3/10\n",
      "4/4 [==============================] - 2s 560ms/step - loss: 0.0656 - accuracy: 0.9844 - val_loss: 0.6290 - val_accuracy: 0.8672\n",
      "Epoch 4/10\n",
      "4/4 [==============================] - 2s 544ms/step - loss: 0.0112 - accuracy: 1.0000 - val_loss: 0.4142 - val_accuracy: 0.9375\n",
      "Epoch 5/10\n",
      "4/4 [==============================] - 2s 571ms/step - loss: 0.1013 - accuracy: 0.9609 - val_loss: 0.7120 - val_accuracy: 0.8828\n",
      "Epoch 6/10\n",
      "4/4 [==============================] - 2s 541ms/step - loss: 0.0163 - accuracy: 0.9922 - val_loss: 0.8569 - val_accuracy: 0.8672\n",
      "Epoch 7/10\n",
      "4/4 [==============================] - 2s 523ms/step - loss: 0.0514 - accuracy: 0.9844 - val_loss: 0.4417 - val_accuracy: 0.8906\n",
      "Epoch 8/10\n",
      "4/4 [==============================] - 2s 555ms/step - loss: 0.0481 - accuracy: 0.9844 - val_loss: 0.7753 - val_accuracy: 0.8750\n",
      "Epoch 9/10\n",
      "4/4 [==============================] - 2s 557ms/step - loss: 0.0735 - accuracy: 0.9766 - val_loss: 0.7204 - val_accuracy: 0.8750\n",
      "Epoch 10/10\n",
      "4/4 [==============================] - 3s 733ms/step - loss: 0.0662 - accuracy: 0.9766 - val_loss: 0.4616 - val_accuracy: 0.9219\n"
     ]
    }
   ],
   "source": [
    "#training \n",
    "history = classifier.fit(training_set,\n",
    "                         steps_per_epoch=4,\n",
    "                         epochs=10,\n",
    "                         validation_data=test_set,\n",
    "                         validation_steps=4)"
   ]
  },
  {
   "cell_type": "code",
   "execution_count": 50,
   "id": "e3eb8179",
   "metadata": {},
   "outputs": [],
   "source": [
    "classifier.save(r'C:\\Users\\Anas\\Desktop\\minorproject\\my_covModel.h5')"
   ]
  },
  {
   "cell_type": "code",
   "execution_count": 51,
   "id": "fe93e861",
   "metadata": {},
   "outputs": [
    {
     "name": "stdout",
     "output_type": "stream",
     "text": [
      "19/19 [==============================] - 3s 137ms/step - loss: 0.6200 - accuracy: 0.8867\n"
     ]
    },
    {
     "data": {
      "text/plain": [
       "[0.6200150847434998, 0.8866666555404663]"
      ]
     },
     "execution_count": 51,
     "metadata": {},
     "output_type": "execute_result"
    }
   ],
   "source": [
    "# evaluation on test set\n",
    "loaded_model = tf.keras.models.load_model(r'C:\\Users\\Anas\\Desktop\\minorproject\\my_covModel.h5')\n",
    "loaded_model.evaluate(test_set)"
   ]
  },
  {
   "cell_type": "code",
   "execution_count": 52,
   "id": "fb69e9ed",
   "metadata": {},
   "outputs": [
    {
     "data": {
      "image/png": "[encoded data removed]",
      "text/plain": [
       "<Figure size 432x288 with 1 Axes>"
      ]
     },
     "metadata": {
      "needs_background": "light"
     },
     "output_type": "display_data"
    },
    {
     "data": {
      "image/png": "[encoded data removed]",
      "text/plain": [
       "<Figure size 432x288 with 1 Axes>"
      ]
     },
     "metadata": {
      "needs_background": "light"
     },
     "output_type": "display_data"
    }
   ],
   "source": [
    "import matplotlib.pyplot as plt\n",
    "plt.plot(history.history['accuracy'])\n",
    "plt.plot(history.history['val_accuracy'])\n",
    "plt.title('model accuracy')\n",
    "plt.ylabel('accuracy')\n",
    "plt.xlabel('epoch')\n",
    "plt.legend(['train', 'test'], loc='upper left')\n",
    "plt.show()\n",
    "\n",
    "plt.plot(history.history['loss'])\n",
    "plt.plot(history.history['val_loss'])\n",
    "plt.title('model loss')\n",
    "plt.ylabel('loss')\n",
    "plt.xlabel('epoch')\n",
    "plt.legend(['train', 'test'], loc='upper left')\n",
    "plt.show()"
   ]
  },
  {
   "cell_type": "code",
   "execution_count": 53,
   "id": "3819be24",
   "metadata": {},
   "outputs": [
    {
     "name": "stdout",
     "output_type": "stream",
     "text": [
      "Normal\n"
     ]
    },
    {
     "data": {
      "image/png": "[encoded data removed]",
      "text/plain": [
       "<Figure size 432x288 with 1 Axes>"
      ]
     },
     "metadata": {
      "needs_background": "light"
     },
     "output_type": "display_data"
    }
   ],
   "source": [
    "# for only one prediction\n",
    "import numpy as np\n",
    "from tensorflow.keras.preprocessing import image\n",
    "\n",
    "test_image = image.load_img(r'C:\\Users\\Anas\\Desktop\\minorproject\\normal\\Normal-1390.png',target_size=(64, 64))\n",
    "plt.imshow(test_image)\n",
    "test_image = image.img_to_array(test_image)\n",
    "test_image = np.expand_dims(test_image, axis=0)\n",
    "result = classifier.predict(test_image)\n",
    "training_set.class_indices\n",
    "if result[0][0] == 1:\n",
    "    prediction = 'Normal'\n",
    "else:\n",
    "    prediction = 'Covid'\n",
    "print(prediction)"
   ]
  },
  {
   "cell_type": "code",
   "execution_count": 54,
   "id": "dd58178e",
   "metadata": {},
   "outputs": [
    {
     "name": "stderr",
     "output_type": "stream",
     "text": [
      "c:\\users\\anas\\appdata\\local\\programs\\python\\python39\\lib\\site-packages\\tensorflow\\python\\keras\\engine\\sequential.py:455: UserWarning: `model.predict_classes()` is deprecated and will be removed after 2021-01-01. Please use instead:* `np.argmax(model.predict(x), axis=-1)`,   if your model does multi-class classification   (e.g. if it uses a `softmax` last-layer activation).* `(model.predict(x) > 0.5).astype(\"int32\")`,   if your model does binary classification   (e.g. if it uses a `sigmoid` last-layer activation).\n",
      "  warnings.warn('`model.predict_classes()` is deprecated and '\n"
     ]
    }
   ],
   "source": [
    "# plot confusion metrix\n",
    "y_pred = []\n",
    "y_test = []\n",
    "import os\n",
    "\n",
    "for i in os.listdir(r\"C:\\Users\\Anas\\Desktop\\minorproject\\test\\normal\"):\n",
    "    img = image.load_img(r\"C:\\Users\\Anas\\Desktop\\minorproject\\test\\normal/\" + i, target_size=(64, 64))\n",
    "    img = image.img_to_array(img)\n",
    "    img = np.expand_dims(img, axis=0)\n",
    "    p = classifier.predict_classes(img)\n",
    "    y_test.append(p[0, 0])\n",
    "    y_pred.append(1)\n",
    "\n",
    "for i in os.listdir(r\"C:\\Users\\Anas\\Desktop\\minorproject\\test\\Covid\"):\n",
    "    img = image.load_img(r\"C:\\Users\\Anas\\Desktop\\minorproject\\test\\Covid/\" + i, target_size=(64, 64))\n",
    "    img = image.img_to_array(img)\n",
    "    img = np.expand_dims(img, axis=0)\n",
    "    p = classifier.predict_classes(img)\n",
    "    y_test.append(p[0, 0])\n",
    "    y_pred.append(0)\n",
    "\n",
    "y_pred = np.array(y_pred)\n",
    "y_test = np.array(y_test)"
   ]
  },
  {
   "cell_type": "code",
   "execution_count": null,
   "id": "44cfd043",
   "metadata": {},
   "outputs": [],
   "source": []
  },
  {
   "cell_type": "code",
   "execution_count": 55,
   "id": "c68f0369",
   "metadata": {},
   "outputs": [
    {
     "data": {
      "image/png": "[encoded data removed]",
      "text/plain": [
       "<Figure size 432x288 with 2 Axes>"
      ]
     },
     "metadata": {
      "needs_background": "light"
     },
     "output_type": "display_data"
    },
    {
     "name": "stdout",
     "output_type": "stream",
     "text": [
      "              precision    recall  f1-score   support\n",
      "\n",
      "           0       0.83      0.95      0.89       300\n",
      "           1       0.94      0.81      0.87       300\n",
      "\n",
      "    accuracy                           0.88       600\n",
      "   macro avg       0.89      0.88      0.88       600\n",
      "weighted avg       0.89      0.88      0.88       600\n",
      "\n"
     ]
    }
   ],
   "source": [
    "from sklearn.metrics import confusion_matrix\n",
    "import seaborn as sns\n",
    "from sklearn.metrics import classification_report\n",
    "\n",
    "cm = confusion_matrix(y_pred, y_test)\n",
    "sns.heatmap(cm, cmap=\"plasma\", annot=True)\n",
    "plt.show()\n",
    "\n",
    "print(classification_report(y_pred, y_test))"
   ]
  }
 ],
 "metadata": {
  "kernelspec": {
   "display_name": "Python 3 (ipykernel)",
   "language": "python",
   "name": "python3"
  },
  "language_info": {
   "codemirror_mode": {
    "name": "ipython",
    "version": 3
   },
   "file_extension": ".py",
   "mimetype": "text/x-python",
   "name": "python",
   "nbconvert_exporter": "python",
   "pygments_lexer": "ipython3",
   "version": "3.9.6"
  }
 },
 "nbformat": 4,
 "nbformat_minor": 5
}
